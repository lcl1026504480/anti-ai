{
 "cells": [
  {
   "cell_type": "markdown",
   "metadata": {
    "slideshow": {
     "slide_type": "-"
    }
   },
   "source": [
    "Synthesizing [adversarial examples](https://arxiv.org/abs/1312.6199) for neural networks is surprisingly easy: small, carefully-crafted perturbations to inputs can cause neural networks to misclassify inputs in arbitrarily chosen ways. Given that adversarial examples [transfer to the physical world](https://arxiv.org/abs/1607.02533) and [can be made extremely robust](https://blog.openai.com/robust-adversarial-inputs/), this is a real security concern.\n",
    "\n",
    "In this post, we give a brief introduction to algorithms for synthesizing adversarial examples, and we walk through the process of implementing attacks in [TensorFlow](https://www.tensorflow.org/), building up to synthesizing a robust adversarial example following [this technique](https://arxiv.org/abs/1707.07397).\n",
    "\n",
    "**This post is an executable [Jupyter notebook](http://jupyter.org/): you're encouraged to [download it](/media/2017/07/25/adversarial.ipynb) and experiment with the examples yourself!**"
   ]
  },
  {
   "cell_type": "markdown",
   "metadata": {
    "collapsed": true,
    "slideshow": {
     "slide_type": "-"
    }
   },
   "source": [
    "# Setup\n",
    "\n",
    "We choose to attack an [Inception v3](https://arxiv.org/abs/1512.00567) network trained on [ImageNet](http://www.image-net.org/). In this section, we load a pre-trained network from the [TF-slim image classification library](https://github.com/tensorflow/models/tree/master/slim). This part isn't particularly interesting, so **feel free to [skip this section](#adversarial-examples)**."
   ]
  },
  {
   "cell_type": "code",
   "execution_count": 108,
   "metadata": {
    "ExecuteTime": {
     "end_time": "2019-11-25T11:04:15.429806Z",
     "start_time": "2019-11-25T11:04:15.423821Z"
    },
    "slideshow": {
     "slide_type": "slide"
    }
   },
   "outputs": [],
   "source": [
    "import tensorflow as tf\n",
    "import tensorflow.contrib.slim as slim\n",
    "import tensorflow.contrib.slim.nets as nets\n",
    "# from nets import inception_resesnet_v2\n",
    "#from inception_resnet_v2 import *\n",
    "#import inception_preprocessing\n",
    "import tempfile\n",
    "from urllib.request import urlretrieve\n",
    "import tarfile\n",
    "import os\n",
    "import json\n",
    "import matplotlib.pyplot as plt\n",
    "import PIL\n",
    "import numpy as np"
   ]
  },
  {
   "cell_type": "code",
   "execution_count": 109,
   "metadata": {
    "ExecuteTime": {
     "end_time": "2019-11-25T11:04:20.338416Z",
     "start_time": "2019-11-25T11:04:19.983844Z"
    },
    "slideshow": {
     "slide_type": "subslide"
    }
   },
   "outputs": [
    {
     "name": "stderr",
     "output_type": "stream",
     "text": [
      "D:\\Anaconda3\\lib\\site-packages\\tensorflow\\python\\client\\session.py:1735: UserWarning: An interactive session is already active. This can cause out-of-memory errors in some cases. You must explicitly call `InteractiveSession.close()` to release resources held by the other session(s).\n",
      "  warnings.warn('An interactive session is already active. This can '\n"
     ]
    }
   ],
   "source": [
    "tf.logging.set_verbosity(tf.logging.ERROR)\n",
    "sess = tf.InteractiveSession()\n",
    "imagenet_json, _ = urlretrieve(\n",
    "    'http://www.anishathalye.com/media/2017/07/25/imagenet.json')\n",
    "with open(imagenet_json) as f:\n",
    "    imagenet_labels = json.load(f)"
   ]
  },
  {
   "cell_type": "markdown",
   "metadata": {
    "slideshow": {
     "slide_type": "subslide"
    }
   },
   "source": [
    "First, we set up the input image. We use a `tf.Variable` instead of a `tf.placeholder` because we will need it to be trainable. We can still feed it when we want to."
   ]
  },
  {
   "cell_type": "code",
   "execution_count": 110,
   "metadata": {
    "ExecuteTime": {
     "end_time": "2019-11-25T11:04:25.259752Z",
     "start_time": "2019-11-25T11:04:25.249779Z"
    }
   },
   "outputs": [],
   "source": [
    "image = tf.Variable(tf.zeros((299, 299, 3)))\n",
    "data_dir = tempfile.mkdtemp()"
   ]
  },
  {
   "cell_type": "markdown",
   "metadata": {},
   "source": [
    "Next, we load the Inception v3 model."
   ]
  },
  {
   "cell_type": "code",
   "execution_count": 111,
   "metadata": {
    "ExecuteTime": {
     "end_time": "2019-11-25T11:08:02.331617Z",
     "start_time": "2019-11-25T11:08:02.283732Z"
    },
    "scrolled": false
   },
   "outputs": [
    {
     "ename": "TypeError",
     "evalue": "arg_scope() missing 1 required positional argument: 'list_ops_or_scope'",
     "output_type": "error",
     "traceback": [
      "\u001b[1;31m---------------------------------------------------------------------------\u001b[0m",
      "\u001b[1;31mTypeError\u001b[0m                                 Traceback (most recent call last)",
      "\u001b[1;32m<ipython-input-111-25fb494880b0>\u001b[0m in \u001b[0;36m<module>\u001b[1;34m\u001b[0m\n\u001b[0;32m     42\u001b[0m \u001b[1;33m\u001b[0m\u001b[0m\n\u001b[0;32m     43\u001b[0m \u001b[1;33m\u001b[0m\u001b[0m\n\u001b[1;32m---> 44\u001b[1;33m \u001b[0mlogits\u001b[0m\u001b[1;33m,\u001b[0m \u001b[0mprobs\u001b[0m \u001b[1;33m=\u001b[0m \u001b[0mresnet\u001b[0m\u001b[1;33m(\u001b[0m\u001b[0mimage\u001b[0m\u001b[1;33m)\u001b[0m\u001b[1;33m\u001b[0m\u001b[1;33m\u001b[0m\u001b[0m\n\u001b[0m\u001b[0;32m     45\u001b[0m \u001b[1;31m# print(logits)\u001b[0m\u001b[1;33m\u001b[0m\u001b[1;33m\u001b[0m\u001b[1;33m\u001b[0m\u001b[0m\n",
      "\u001b[1;32m<ipython-input-111-25fb494880b0>\u001b[0m in \u001b[0;36mresnet\u001b[1;34m(image)\u001b[0m\n\u001b[0;32m     16\u001b[0m \u001b[1;31m#     processed_images  = tf.expand_dims(processed_image, 0)\u001b[0m\u001b[1;33m\u001b[0m\u001b[1;33m\u001b[0m\u001b[1;33m\u001b[0m\u001b[0m\n\u001b[0;32m     17\u001b[0m     \u001b[0mpreprocessed\u001b[0m \u001b[1;33m=\u001b[0m \u001b[0mtf\u001b[0m\u001b[1;33m.\u001b[0m\u001b[0mmultiply\u001b[0m\u001b[1;33m(\u001b[0m\u001b[0mtf\u001b[0m\u001b[1;33m.\u001b[0m\u001b[0msubtract\u001b[0m\u001b[1;33m(\u001b[0m\u001b[0mtf\u001b[0m\u001b[1;33m.\u001b[0m\u001b[0mexpand_dims\u001b[0m\u001b[1;33m(\u001b[0m\u001b[0mimage\u001b[0m\u001b[1;33m,\u001b[0m \u001b[1;36m0\u001b[0m\u001b[1;33m)\u001b[0m\u001b[1;33m,\u001b[0m \u001b[1;36m0.5\u001b[0m\u001b[1;33m)\u001b[0m\u001b[1;33m,\u001b[0m \u001b[1;36m2.0\u001b[0m\u001b[1;33m)\u001b[0m\u001b[1;33m\u001b[0m\u001b[1;33m\u001b[0m\u001b[0m\n\u001b[1;32m---> 18\u001b[1;33m     \u001b[0marg_scope\u001b[0m \u001b[1;33m=\u001b[0m \u001b[0mnets\u001b[0m\u001b[1;33m.\u001b[0m\u001b[0mresnet_v2\u001b[0m\u001b[1;33m.\u001b[0m\u001b[0marg_scope\u001b[0m\u001b[1;33m(\u001b[0m\u001b[0mweight_decay\u001b[0m\u001b[1;33m=\u001b[0m\u001b[1;36m0.0\u001b[0m\u001b[1;33m)\u001b[0m\u001b[1;33m\u001b[0m\u001b[1;33m\u001b[0m\u001b[0m\n\u001b[0m\u001b[0;32m     19\u001b[0m \u001b[1;33m\u001b[0m\u001b[0m\n\u001b[0;32m     20\u001b[0m     \u001b[1;32mwith\u001b[0m \u001b[0mslim\u001b[0m\u001b[1;33m.\u001b[0m\u001b[0marg_scope\u001b[0m\u001b[1;33m(\u001b[0m\u001b[0marg_scope\u001b[0m\u001b[1;33m)\u001b[0m\u001b[1;33m:\u001b[0m\u001b[1;33m\u001b[0m\u001b[1;33m\u001b[0m\u001b[0m\n",
      "\u001b[1;32mD:\\Anaconda3\\lib\\contextlib.py\u001b[0m in \u001b[0;36mhelper\u001b[1;34m(*args, **kwds)\u001b[0m\n\u001b[0;32m    157\u001b[0m     \u001b[1;33m@\u001b[0m\u001b[0mwraps\u001b[0m\u001b[1;33m(\u001b[0m\u001b[0mfunc\u001b[0m\u001b[1;33m)\u001b[0m\u001b[1;33m\u001b[0m\u001b[1;33m\u001b[0m\u001b[0m\n\u001b[0;32m    158\u001b[0m     \u001b[1;32mdef\u001b[0m \u001b[0mhelper\u001b[0m\u001b[1;33m(\u001b[0m\u001b[1;33m*\u001b[0m\u001b[0margs\u001b[0m\u001b[1;33m,\u001b[0m \u001b[1;33m**\u001b[0m\u001b[0mkwds\u001b[0m\u001b[1;33m)\u001b[0m\u001b[1;33m:\u001b[0m\u001b[1;33m\u001b[0m\u001b[1;33m\u001b[0m\u001b[0m\n\u001b[1;32m--> 159\u001b[1;33m         \u001b[1;32mreturn\u001b[0m \u001b[0m_GeneratorContextManager\u001b[0m\u001b[1;33m(\u001b[0m\u001b[0mfunc\u001b[0m\u001b[1;33m,\u001b[0m \u001b[0margs\u001b[0m\u001b[1;33m,\u001b[0m \u001b[0mkwds\u001b[0m\u001b[1;33m)\u001b[0m\u001b[1;33m\u001b[0m\u001b[1;33m\u001b[0m\u001b[0m\n\u001b[0m\u001b[0;32m    160\u001b[0m     \u001b[1;32mreturn\u001b[0m \u001b[0mhelper\u001b[0m\u001b[1;33m\u001b[0m\u001b[1;33m\u001b[0m\u001b[0m\n\u001b[0;32m    161\u001b[0m \u001b[1;33m\u001b[0m\u001b[0m\n",
      "\u001b[1;32mD:\\Anaconda3\\lib\\contextlib.py\u001b[0m in \u001b[0;36m__init__\u001b[1;34m(self, func, args, kwds)\u001b[0m\n\u001b[0;32m     58\u001b[0m \u001b[1;33m\u001b[0m\u001b[0m\n\u001b[0;32m     59\u001b[0m     \u001b[1;32mdef\u001b[0m \u001b[0m__init__\u001b[0m\u001b[1;33m(\u001b[0m\u001b[0mself\u001b[0m\u001b[1;33m,\u001b[0m \u001b[0mfunc\u001b[0m\u001b[1;33m,\u001b[0m \u001b[0margs\u001b[0m\u001b[1;33m,\u001b[0m \u001b[0mkwds\u001b[0m\u001b[1;33m)\u001b[0m\u001b[1;33m:\u001b[0m\u001b[1;33m\u001b[0m\u001b[1;33m\u001b[0m\u001b[0m\n\u001b[1;32m---> 60\u001b[1;33m         \u001b[0mself\u001b[0m\u001b[1;33m.\u001b[0m\u001b[0mgen\u001b[0m \u001b[1;33m=\u001b[0m \u001b[0mfunc\u001b[0m\u001b[1;33m(\u001b[0m\u001b[1;33m*\u001b[0m\u001b[0margs\u001b[0m\u001b[1;33m,\u001b[0m \u001b[1;33m**\u001b[0m\u001b[0mkwds\u001b[0m\u001b[1;33m)\u001b[0m\u001b[1;33m\u001b[0m\u001b[1;33m\u001b[0m\u001b[0m\n\u001b[0m\u001b[0;32m     61\u001b[0m         \u001b[0mself\u001b[0m\u001b[1;33m.\u001b[0m\u001b[0mfunc\u001b[0m\u001b[1;33m,\u001b[0m \u001b[0mself\u001b[0m\u001b[1;33m.\u001b[0m\u001b[0margs\u001b[0m\u001b[1;33m,\u001b[0m \u001b[0mself\u001b[0m\u001b[1;33m.\u001b[0m\u001b[0mkwds\u001b[0m \u001b[1;33m=\u001b[0m \u001b[0mfunc\u001b[0m\u001b[1;33m,\u001b[0m \u001b[0margs\u001b[0m\u001b[1;33m,\u001b[0m \u001b[0mkwds\u001b[0m\u001b[1;33m\u001b[0m\u001b[1;33m\u001b[0m\u001b[0m\n\u001b[0;32m     62\u001b[0m         \u001b[1;31m# Issue 19330: ensure context manager instances have good docstrings\u001b[0m\u001b[1;33m\u001b[0m\u001b[1;33m\u001b[0m\u001b[1;33m\u001b[0m\u001b[0m\n",
      "\u001b[1;31mTypeError\u001b[0m: arg_scope() missing 1 required positional argument: 'list_ops_or_scope'"
     ]
    }
   ],
   "source": [
    "def inception_v3(image, reuse):\n",
    "    preprocessed = tf.multiply(tf.subtract(tf.expand_dims(image, 0), 0.5), 2.0)\n",
    "    arg_scope = nets.inception.inception_v3_arg_scope(weight_decay=0.0)\n",
    "    \n",
    "    with slim.arg_scope(arg_scope):\n",
    "        logits, _ = nets.inception.inception_v3(\n",
    "            preprocessed, 1001, is_training=False, reuse=reuse)\n",
    "        logits = logits[:,1:] # ignore background class\n",
    "        probs = tf.nn.softmax(logits) # probabilities\n",
    "#         print(probs)\n",
    "#加载参数\n",
    "    inception_tarball='D:\\\\jupyter\\\\adversanial\\\\inception_v3_2016_08_28.tar.gz'\n",
    "    tarfile.open(inception_tarball, 'r:gz').extractall(data_dir)\n",
    "    restore_vars = [\n",
    "    var for var in tf.global_variables()\n",
    "    if var.name.startswith('InceptionV3/')\n",
    "    ]\n",
    "#     saver = tf.train.Saver(restore_vars)\n",
    "#     saver.restore(sess, os.path.join(data_dir, 'inception_v3.ckpt'))\n",
    "    return logits,probs\n",
    "\n",
    "def resnet(image):\n",
    "    tf.reset_default_graph()\n",
    "#     processed_image = inception_preprocessing.preprocess_image(image,299,299,is_training=False,)\n",
    "#     processed_images  = tf.expand_dims(processed_image, 0)\n",
    "    preprocessed = tf.multiply(tf.subtract(tf.expand_dims(image, 0), 0.5), 2.0)\n",
    "    arg_scope = nets.resnet_v2.arg_scope(weight_decay=0.0)\n",
    "    \n",
    "    with slim.arg_scope(arg_scope):\n",
    "        logits, end_points = nets.resnet_v2(\n",
    "            preprocessed, 1001, is_training=False) \n",
    "        logits = logits[:,1:]\n",
    "        probabilities = tf.nn.softmax(logits)\n",
    "    print(probs)\n",
    "    return logits, probs\n",
    "\n",
    "\n",
    "#     with tf.Session() as sess:\n",
    "#         saver.restore(sess, checkpoint_file)\n",
    "\n",
    "#         #predict_values, logit_values = sess.run([end_points['Predictions'], logits])\n",
    "#         image2, network_inputs, probabilities2 = sess.run([image,\n",
    "#                                                            processed_images,\n",
    "#                                                            probabilities])\n",
    "\n",
    "#         print(network_inputs.shape)\n",
    "#         print(probabilities2.shape)\n",
    "#         probabilities2 = probabilities2[0,:]\n",
    "#         sorted_inds = [i[0] for i in sorted(enumerate(-probabilities2),\n",
    "#                                             key=lambda x:x[1])]    \n",
    "\n",
    "\n",
    "# logits, probs = resnet(image)\n",
    "# print(logits)"
   ]
  },
  {
   "cell_type": "markdown",
   "metadata": {},
   "source": [
    "Next, we load pre-trained weights. This Inception v3 has a top-5 accuracy of 93.9%."
   ]
  },
  {
   "cell_type": "markdown",
   "metadata": {},
   "source": [
    "Next, we write some code to show an image, classify it, and show the classification result."
   ]
  },
  {
   "cell_type": "code",
   "execution_count": 84,
   "metadata": {
    "ExecuteTime": {
     "end_time": "2019-11-25T10:39:14.338103Z",
     "start_time": "2019-11-25T10:39:08.055166Z"
    }
   },
   "outputs": [],
   "source": [
    "\n"
   ]
  },
  {
   "cell_type": "code",
   "execution_count": 85,
   "metadata": {
    "ExecuteTime": {
     "end_time": "2019-11-25T10:40:37.683944Z",
     "start_time": "2019-11-25T10:40:37.673971Z"
    }
   },
   "outputs": [],
   "source": [
    "\n",
    "def classify(img, correct_class=None, target_class=None):\n",
    "    fig, (ax1, ax2) = plt.subplots(1, 2, figsize=(10, 8))\n",
    "    fig.sca(ax1)\n",
    "    p = sess.run(probs, feed_dict={image: img})[0]\n",
    "    ax1.imshow(img)\n",
    "    ax1.tick_params(axis='x',colors ='white')\n",
    "    ax1.tick_params(axis='y',colors ='white')\n",
    "    fig.sca(ax1)\n",
    "    topk = list(p.argsort()[-10:][::-1])\n",
    "    topprobs = p[topk]\n",
    "#     topprobs[0]=0.75\n",
    "#     topprobs[1]=0.15\n",
    "#     topprobs[2]=0.08\n",
    "#     topprobs[3]=0.02\n",
    "    print(topprobs)\n",
    "    barlist = ax2.bar(range(10), topprobs)\n",
    "    if target_class in topk:\n",
    "        barlist[topk.index(target_class)].set_color('r')\n",
    "    if correct_class in topk:\n",
    "        barlist[topk.index(correct_class)].set_color('g')\n",
    "    plt.sca(ax2)\n",
    "    plt.ylim([0, 1.1])\n",
    "    ax2.tick_params(axis='y',colors ='white')\n",
    "    plt.xticks(range(10),\n",
    "               [imagenet_labels[i][:15] for i in topk],\n",
    "               rotation='vertical',color='white')\n",
    "    fig.subplots_adjust(bottom=0.2)\n",
    "    plt.show()"
   ]
  },
  {
   "cell_type": "markdown",
   "metadata": {},
   "source": [
    "## Example image\n",
    "\n",
    "We load our example image and make sure it's classified correctly."
   ]
  },
  {
   "cell_type": "code",
   "execution_count": 86,
   "metadata": {
    "ExecuteTime": {
     "end_time": "2019-11-25T10:40:40.597959Z",
     "start_time": "2019-11-25T10:40:39.983541Z"
    }
   },
   "outputs": [],
   "source": [
    "\n",
    "img_path, _ = urlretrieve('https://timgsa.baidu.com/timg?image&quality=80&size=b9999_10000&sec=1572254695068&di=0de174eab6020439abc940ae575819ff&imgtype=0&src=http%3A%2F%2Fdpic.tiankong.com%2F00%2Fzu%2FQJ6543291920.jpg%3Fx-oss-process%3Dstyle%2Fshows')\n",
    "img_class = 151\n",
    "img = PIL.Image.open(img_path)\n",
    "big_dim = max(img.width, img.height)\n",
    "wide = img.width > img.height\n",
    "new_w = 299 if not wide else int(img.width * 299 / img.height)\n",
    "new_h = 299 if wide else int(img.height * 299 / img.width)\n",
    "img = img.resize((new_w, new_h)).crop((0, 0, 299, 299))\n",
    "img = (np.asarray(img) / 255.0).astype(np.float32)"
   ]
  },
  {
   "cell_type": "code",
   "execution_count": 87,
   "metadata": {
    "ExecuteTime": {
     "end_time": "2019-11-25T10:40:56.706775Z",
     "start_time": "2019-11-25T10:40:43.274943Z"
    }
   },
   "outputs": [
    {
     "name": "stdout",
     "output_type": "stream",
     "text": [
      "[0.63760394 0.06553011 0.03097374 0.01606182 0.01126853 0.00682838\n",
      " 0.00637947 0.00284663 0.00237937 0.0022341 ]\n"
     ]
    },
    {
     "data": {
      "image/png": "[encoded data removed]",
      "text/plain": [
       "<Figure size 720x576 with 2 Axes>"
      ]
     },
     "metadata": {
      "needs_background": "dark"
     },
     "output_type": "display_data"
    }
   ],
   "source": [
    "classify(img, correct_class=img_class)"
   ]
  },
  {
   "cell_type": "markdown",
   "metadata": {},
   "source": [
    "# Adversarial examples\n",
    "\n",
    "Given an image $\\mathbf{x}$, our neural network outputs a probability distribution over labels, $P(y \\mid \\mathbf{x})$. When we craft an adversarial input, we want to find an $\\hat{\\mathbf{x}}$ where $\\log P(\\hat{y} \\mid \\hat{\\mathbf{x}})$ is maximized for a target label $\\hat{y}$: that way, our input will be misclassified as the target class. We can ensure that $\\hat{\\mathbf{x}}$ doesn't look too different from the original $\\mathbf{x}$ by constraining ourselves to some $\\ell_\\infty$ box with radius $\\epsilon$, requiring that $\\left\\lVert \\mathbf{x} - \\hat{\\mathbf{x}} \\right\\rVert_\\infty \\le \\epsilon$.\n",
    "\n",
    "In this framework, an adversarial example is the solution to a constrained optimization problem that we can solve using [backpropagation](http://colah.github.io/posts/2015-08-Backprop/) and projected gradient descent, basically the same techniques that are used to train networks themselves. The algorithm is simple:\n",
    "\n",
    "We begin by initializing our adversarial example as $\\hat{\\mathbf{x}} \\leftarrow \\mathbf{x}$. Then, we repeat the following until convergence:\n",
    "\n",
    "1. $\\hat{\\mathbf{x}} \\leftarrow \\hat{\\mathbf{x}} + \\alpha \\cdot \\nabla \\log P(\\hat{y} \\mid \\hat{\\mathbf{x}})$\n",
    "2. $\\hat{\\mathbf{x}} \\leftarrow \\mathrm{clip}(\\hat{\\mathbf{x}}, \\mathbf{x} - \\epsilon, \\mathbf{x} + \\epsilon)$"
   ]
  },
  {
   "cell_type": "markdown",
   "metadata": {},
   "source": [
    "## Initialization\n",
    "\n",
    "We start with the easiest part: writing a TensorFlow op for initialization."
   ]
  },
  {
   "cell_type": "code",
   "execution_count": null,
   "metadata": {
    "ExecuteTime": {
     "end_time": "2019-11-25T10:16:50.911667Z",
     "start_time": "2019-11-25T10:16:50.745Z"
    }
   },
   "outputs": [],
   "source": [
    "x = tf.placeholder(tf.float32, (299, 299, 3))\n",
    "x_hat = image # our trainable adversarial input\n",
    "assign_op = tf.assign(x_hat, x)"
   ]
  },
  {
   "cell_type": "markdown",
   "metadata": {},
   "source": [
    "## Gradient descent step\n",
    "\n",
    "Next, we write the gradient descent step to maximize the log probability of the target class (or equivalently, minimize the [cross entropy](https://en.wikipedia.org/wiki/Cross_entropy))."
   ]
  },
  {
   "cell_type": "code",
   "execution_count": null,
   "metadata": {
    "ExecuteTime": {
     "end_time": "2019-11-25T10:16:50.912665Z",
     "start_time": "2019-11-25T10:16:50.856Z"
    }
   },
   "outputs": [],
   "source": [
    "learning_rate = tf.placeholder(tf.float32, ())\n",
    "y_hat = tf.placeholder(tf.int32, ())\n",
    "\n",
    "labels = tf.one_hot(y_hat, 1000)\n",
    "loss = tf.nn.softmax_cross_entropy_with_logits(logits=logits, labels=[labels])\n",
    "optim_step = tf.train.GradientDescentOptimizer(\n",
    "    learning_rate).minimize(-loss, var_list=[x_hat])"
   ]
  },
  {
   "cell_type": "markdown",
   "metadata": {},
   "source": [
    "\n",
    "## Projection step\n",
    "\n",
    "Finally, we write the projection step to keep our adversarial example visually close to the original image. Additionally, we clip to $[0, 1]$ to keep it a valid image."
   ]
  },
  {
   "cell_type": "code",
   "execution_count": 34,
   "metadata": {
    "ExecuteTime": {
     "end_time": "2019-11-25T10:16:51.034377Z",
     "start_time": "2019-11-25T10:16:51.013396Z"
    }
   },
   "outputs": [
    {
     "ename": "NameError",
     "evalue": "name 'x' is not defined",
     "output_type": "error",
     "traceback": [
      "\u001b[1;31m---------------------------------------------------------------------------\u001b[0m",
      "\u001b[1;31mNameError\u001b[0m                                 Traceback (most recent call last)",
      "\u001b[1;32m<ipython-input-34-8e3e84f94dad>\u001b[0m in \u001b[0;36m<module>\u001b[1;34m\u001b[0m\n\u001b[0;32m      1\u001b[0m \u001b[0mepsilon\u001b[0m \u001b[1;33m=\u001b[0m \u001b[0mtf\u001b[0m\u001b[1;33m.\u001b[0m\u001b[0mplaceholder\u001b[0m\u001b[1;33m(\u001b[0m\u001b[0mtf\u001b[0m\u001b[1;33m.\u001b[0m\u001b[0mfloat32\u001b[0m\u001b[1;33m,\u001b[0m \u001b[1;33m(\u001b[0m\u001b[1;33m)\u001b[0m\u001b[1;33m)\u001b[0m\u001b[1;33m\u001b[0m\u001b[1;33m\u001b[0m\u001b[0m\n\u001b[0;32m      2\u001b[0m \u001b[1;33m\u001b[0m\u001b[0m\n\u001b[1;32m----> 3\u001b[1;33m \u001b[0mbelow\u001b[0m \u001b[1;33m=\u001b[0m \u001b[0mx\u001b[0m \u001b[1;33m-\u001b[0m \u001b[0mepsilon\u001b[0m\u001b[1;33m\u001b[0m\u001b[1;33m\u001b[0m\u001b[0m\n\u001b[0m\u001b[0;32m      4\u001b[0m \u001b[0mabove\u001b[0m \u001b[1;33m=\u001b[0m \u001b[0mx\u001b[0m \u001b[1;33m+\u001b[0m \u001b[0mepsilon\u001b[0m\u001b[1;33m\u001b[0m\u001b[1;33m\u001b[0m\u001b[0m\n\u001b[0;32m      5\u001b[0m \u001b[0mprojected\u001b[0m \u001b[1;33m=\u001b[0m \u001b[0mtf\u001b[0m\u001b[1;33m.\u001b[0m\u001b[0mclip_by_value\u001b[0m\u001b[1;33m(\u001b[0m\u001b[0mtf\u001b[0m\u001b[1;33m.\u001b[0m\u001b[0mclip_by_value\u001b[0m\u001b[1;33m(\u001b[0m\u001b[0mx_hat\u001b[0m\u001b[1;33m,\u001b[0m \u001b[0mbelow\u001b[0m\u001b[1;33m,\u001b[0m \u001b[0mabove\u001b[0m\u001b[1;33m)\u001b[0m\u001b[1;33m,\u001b[0m \u001b[1;36m0\u001b[0m\u001b[1;33m,\u001b[0m \u001b[1;36m1\u001b[0m\u001b[1;33m)\u001b[0m\u001b[1;33m\u001b[0m\u001b[1;33m\u001b[0m\u001b[0m\n",
      "\u001b[1;31mNameError\u001b[0m: name 'x' is not defined"
     ]
    }
   ],
   "source": [
    "\n",
    "epsilon = tf.placeholder(tf.float32, ())\n",
    "\n",
    "below = x - epsilon\n",
    "above = x + epsilon\n",
    "projected = tf.clip_by_value(tf.clip_by_value(x_hat, below, above), 0, 1)\n",
    "with tf.control_dependencies([projected]):\n",
    "    project_step = tf.assign(x_hat, projected)"
   ]
  },
  {
   "cell_type": "markdown",
   "metadata": {},
   "source": [
    "## Execution\n",
    "\n",
    "Finally, we're ready to synthesize an adversarial example. We arbitrarily choose \"guacamole\" (imagenet class 924) as our target class."
   ]
  },
  {
   "cell_type": "code",
   "execution_count": 35,
   "metadata": {
    "ExecuteTime": {
     "end_time": "2019-11-25T10:16:51.172970Z",
     "start_time": "2019-11-25T10:16:51.148061Z"
    }
   },
   "outputs": [
    {
     "ename": "NameError",
     "evalue": "name 'img_class' is not defined",
     "output_type": "error",
     "traceback": [
      "\u001b[1;31m---------------------------------------------------------------------------\u001b[0m",
      "\u001b[1;31mNameError\u001b[0m                                 Traceback (most recent call last)",
      "\u001b[1;32m<ipython-input-35-7ca0778607cf>\u001b[0m in \u001b[0;36m<module>\u001b[1;34m\u001b[0m\n\u001b[0;32m      2\u001b[0m \u001b[0mdemo_lr\u001b[0m \u001b[1;33m=\u001b[0m \u001b[1;36m1e-1\u001b[0m\u001b[1;33m\u001b[0m\u001b[1;33m\u001b[0m\u001b[0m\n\u001b[0;32m      3\u001b[0m \u001b[0mdemo_steps\u001b[0m \u001b[1;33m=\u001b[0m \u001b[1;36m100\u001b[0m\u001b[1;33m\u001b[0m\u001b[1;33m\u001b[0m\u001b[0m\n\u001b[1;32m----> 4\u001b[1;33m \u001b[0mdemo_target\u001b[0m \u001b[1;33m=\u001b[0m \u001b[0mimg_class\u001b[0m \u001b[1;31m# dog\u001b[0m\u001b[1;33m\u001b[0m\u001b[1;33m\u001b[0m\u001b[0m\n\u001b[0m\u001b[0;32m      5\u001b[0m \u001b[1;33m\u001b[0m\u001b[0m\n\u001b[0;32m      6\u001b[0m \u001b[1;31m# initialization step\u001b[0m\u001b[1;33m\u001b[0m\u001b[1;33m\u001b[0m\u001b[1;33m\u001b[0m\u001b[0m\n",
      "\u001b[1;31mNameError\u001b[0m: name 'img_class' is not defined"
     ]
    }
   ],
   "source": [
    "demo_epsilon = 8.0/255.0 # a really small perturbation\n",
    "demo_lr = 1e-1\n",
    "demo_steps = 100\n",
    "demo_target = img_class # dog\n",
    "\n",
    "# initialization step\n",
    "sess.run(assign_op, feed_dict={x: img})\n",
    "\n",
    "# projected gradient descent\n",
    "for i in range(demo_steps):\n",
    "    # gradient descent step\n",
    "    _, loss_value = sess.run(\n",
    "        [optim_step, loss],\n",
    "        feed_dict={learning_rate: demo_lr, y_hat: demo_target})\n",
    "    # project step\n",
    "    sess.run(project_step, feed_dict={x: img, epsilon: demo_epsilon})\n",
    "    if (i+1) % 10 == 0:\n",
    "        print('step %d, loss=%g' % (i+1, loss_value))\n",
    "    \n",
    "\n",
    "adv = x_hat.eval() # retrieve the adversarial example"
   ]
  },
  {
   "cell_type": "markdown",
   "metadata": {},
   "source": [
    "This adversarial image is visually indistinguishable from the original, with no visual artifacts. However, it's classified as \"guacamole\" with high probability!"
   ]
  },
  {
   "cell_type": "code",
   "execution_count": 36,
   "metadata": {
    "ExecuteTime": {
     "end_time": "2019-11-25T10:16:51.302622Z",
     "start_time": "2019-11-25T10:16:51.280681Z"
    }
   },
   "outputs": [
    {
     "ename": "NameError",
     "evalue": "name 'classify' is not defined",
     "output_type": "error",
     "traceback": [
      "\u001b[1;31m---------------------------------------------------------------------------\u001b[0m",
      "\u001b[1;31mNameError\u001b[0m                                 Traceback (most recent call last)",
      "\u001b[1;32m<ipython-input-36-77e23f05fd98>\u001b[0m in \u001b[0;36m<module>\u001b[1;34m\u001b[0m\n\u001b[1;32m----> 1\u001b[1;33m \u001b[0mclassify\u001b[0m\u001b[1;33m(\u001b[0m\u001b[0madv\u001b[0m\u001b[1;33m,\u001b[0m \u001b[0mcorrect_class\u001b[0m\u001b[1;33m=\u001b[0m\u001b[0mimg_class\u001b[0m\u001b[1;33m,\u001b[0m \u001b[0mtarget_class\u001b[0m\u001b[1;33m=\u001b[0m\u001b[0mdemo_target\u001b[0m\u001b[1;33m)\u001b[0m\u001b[1;33m\u001b[0m\u001b[1;33m\u001b[0m\u001b[0m\n\u001b[0m",
      "\u001b[1;31mNameError\u001b[0m: name 'classify' is not defined"
     ]
    }
   ],
   "source": [
    "classify(adv, correct_class=img_class, target_class=demo_target)"
   ]
  },
  {
   "cell_type": "markdown",
   "metadata": {},
   "source": [
    "## v1"
   ]
  },
  {
   "cell_type": "code",
   "execution_count": null,
   "metadata": {
    "ExecuteTime": {
     "end_time": "2019-11-10T02:23:37.625556Z",
     "start_time": "2019-11-10T02:23:37.608610Z"
    }
   },
   "outputs": [],
   "source": []
  },
  {
   "cell_type": "markdown",
   "metadata": {},
   "source": [
    "## v2 "
   ]
  },
  {
   "cell_type": "markdown",
   "metadata": {
    "ExecuteTime": {
     "end_time": "2019-11-10T02:30:28.128713Z",
     "start_time": "2019-11-10T02:30:20.742Z"
    }
   },
   "source": [
    "\n",
    "diff=adv-img\n",
    "# enhance=diff-np.min(diff)\n",
    "# enhance=np.int0(np.exp(80*(diff-np.min(diff))))\n",
    "# plt.imshow(enhance)\n",
    "# plt.imshow(diff)\n",
    "plt.subplot(131),plt.title(\"R\"),plt.imshow(diff[:,:,0],cmap=\"gray\")\n",
    "plt.colorbar(orientation='horizontal')\n",
    "plt.subplot(132),plt.title(\"G\"),plt.imshow(diff[:,:,1],cmap=\"gray\")\n",
    "plt.colorbar(orientation='horizontal')\n",
    "plt.subplot(133),plt.title(\"B\"),plt.imshow(diff[:,:,2],cmap=\"gray\")\n",
    "plt.colorbar(orientation='horizontal')\n",
    "plt.show()"
   ]
  },
  {
   "cell_type": "markdown",
   "metadata": {},
   "source": [
    "\n",
    "\n",
    "\n",
    "\n",
    "# Robust adversarial examples\n",
    "\n",
    "Now, we go through a more advanced example. We follow our approach for [synthesizing robust adversarial examples](https://arxiv.org/abs/1707.07397) to find a single perturbation of our cat image that's simultaneously adversarial under some chosen distribution of transformations.  We could choose any distribution of differentiable transformations; in this post, we'll synthesize a single adversarial input that's robust to rotation by $\\theta \\in [-\\pi/4, \\pi/4]$.\n",
    "\n",
    "Before we proceed, let's check if our previous example is still adversarial if we rotate it, say by an angle of $\\theta = \\pi/8$."
   ]
  },
  {
   "cell_type": "markdown",
   "metadata": {
    "ExecuteTime": {
     "end_time": "2019-10-28T06:57:55.069469Z",
     "start_time": "2019-10-28T06:57:54.253414Z"
    }
   },
   "source": [
    "ex_angle = np.pi/8\n",
    "\n",
    "angle = tf.placeholder(tf.float32, ())\n",
    "rotated_image = tf.contrib.image.rotate(image, angle)\n",
    "rotated_example = rotated_image.eval(feed_dict={image: adv, angle: ex_angle})\n",
    "classify(rotated_example, correct_class=img_class, target_class=demo_target)"
   ]
  },
  {
   "cell_type": "markdown",
   "metadata": {},
   "source": [
    "\n",
    "Looks like our original adversarial example is not rotation-invariant!\n",
    "\n",
    "So, how do we make an adversarial example robust to a distribution of transformations? Given some distribution of transformations $T$, we can maximize $\\mathbb{E}_{t \\sim T} \\log P\\left(\\hat{y} \\mid t(\\hat{\\mathbf{x}})\\right)$, subject to $\\left\\lVert \\mathbf{x} - \\hat{\\mathbf{x}} \\right\\rVert_\\infty \\le \\epsilon$. We can solve this optimization problem via projected gradient descent, noting that $\\nabla \\mathbb{E}_{t \\sim T} \\log P\\left(\\hat{y} \\mid t(\\hat{\\mathbf{x}})\\right)$ is $\\mathbb{E}_{t \\sim T} \\nabla \\log P\\left(\\hat{y} \\mid t(\\hat{\\mathbf{x}})\\right)$ and approximating with samples at each gradient descent step.\n",
    "\n",
    "Rather than manually implementing the gradient sampling, we can use a trick to get TensorFlow to do it for us: we can model our sampling-based gradient descent as doing gradient descent over an ensemble of stochastic classifiers that randomly sample from the distribution and transform their input before classifying it."
   ]
  },
  {
   "cell_type": "markdown",
   "metadata": {
    "ExecuteTime": {
     "end_time": "2019-10-28T06:59:16.337819Z",
     "start_time": "2019-10-28T06:57:55.071465Z"
    }
   },
   "source": [
    "num_samples = 10\n",
    "average_loss = 0\n",
    "for i in range(num_samples):\n",
    "    rotated = tf.contrib.image.rotate(\n",
    "        image, tf.random_uniform((), minval=-np.pi, maxval=np.pi))\n",
    "    rotated_logits, _ = inception(rotated, reuse=True)\n",
    "    average_loss += tf.nn.softmax_cross_entropy_with_logits(\n",
    "        logits=rotated_logits, labels=labels) / num_samples"
   ]
  },
  {
   "cell_type": "markdown",
   "metadata": {},
   "source": [
    "We can reuse our `assign_op` and `project_step`, though we'll have to write a new `optim_step` for this new objective."
   ]
  },
  {
   "cell_type": "markdown",
   "metadata": {
    "ExecuteTime": {
     "end_time": "2019-10-28T06:59:28.506513Z",
     "start_time": "2019-10-28T06:59:16.339776Z"
    }
   },
   "source": [
    "\n",
    "optim_step = tf.train.GradientDescentOptimizer(\n",
    "    learning_rate).minimize(-average_loss, var_list=[x_hat])"
   ]
  },
  {
   "cell_type": "markdown",
   "metadata": {},
   "source": [
    "Finally, we're ready to run PGD to generate our adversarial input. As in the previous example, we'll choose \"guacamole\" as our target class."
   ]
  },
  {
   "cell_type": "markdown",
   "metadata": {
    "ExecuteTime": {
     "end_time": "2019-10-28T07:04:09.259466Z",
     "start_time": "2019-10-28T06:59:28.508510Z"
    }
   },
   "source": [
    "demo_epsilon = 8.0/255.0 # still a pretty small perturbation\n",
    "demo_lr = 2e-1\n",
    "demo_steps = 300\n",
    "demo_target = img_class # \"guacamole\"\n",
    "\n",
    "# initialization step\n",
    "sess.run(assign_op, feed_dict={x: img})\n",
    "\n",
    "# projected gradient descent\n",
    "for i in range(demo_steps):\n",
    "    # gradient descent step\n",
    "    _, loss_value = sess.run(\n",
    "        [optim_step, average_loss],\n",
    "        feed_dict={learning_rate: demo_lr, y_hat: demo_target})\n",
    "    # project step\n",
    "    sess.run(project_step, feed_dict={x: img, epsilon: demo_epsilon})\n",
    "    if (i+1) % 50 == 0:\n",
    "        print('step %d, loss=%g' % (i+1, loss_value))\n",
    "    \n",
    "\n",
    "adv_robust = x_hat.eval() # retrieve the adversarial example"
   ]
  },
  {
   "cell_type": "markdown",
   "metadata": {},
   "source": [
    "This adversarial image is classified as \"guacamole\" with high confidence, even when it's rotated!"
   ]
  },
  {
   "cell_type": "code",
   "execution_count": 37,
   "metadata": {
    "ExecuteTime": {
     "end_time": "2019-11-25T10:16:52.402718Z",
     "start_time": "2019-11-25T10:16:52.378777Z"
    }
   },
   "outputs": [
    {
     "ename": "NameError",
     "evalue": "name 'rotated_image' is not defined",
     "output_type": "error",
     "traceback": [
      "\u001b[1;31m---------------------------------------------------------------------------\u001b[0m",
      "\u001b[1;31mNameError\u001b[0m                                 Traceback (most recent call last)",
      "\u001b[1;32m<ipython-input-37-60cca961efcc>\u001b[0m in \u001b[0;36m<module>\u001b[1;34m\u001b[0m\n\u001b[1;32m----> 1\u001b[1;33m \u001b[0mrotated_example\u001b[0m \u001b[1;33m=\u001b[0m \u001b[0mrotated_image\u001b[0m\u001b[1;33m.\u001b[0m\u001b[0meval\u001b[0m\u001b[1;33m(\u001b[0m\u001b[0mfeed_dict\u001b[0m\u001b[1;33m=\u001b[0m\u001b[1;33m{\u001b[0m\u001b[0mimage\u001b[0m\u001b[1;33m:\u001b[0m \u001b[0madv_robust\u001b[0m\u001b[1;33m,\u001b[0m \u001b[0mangle\u001b[0m\u001b[1;33m:\u001b[0m \u001b[0mex_angle\u001b[0m\u001b[1;33m}\u001b[0m\u001b[1;33m)\u001b[0m\u001b[1;33m\u001b[0m\u001b[1;33m\u001b[0m\u001b[0m\n\u001b[0m\u001b[0;32m      2\u001b[0m \u001b[0mclassify\u001b[0m\u001b[1;33m(\u001b[0m\u001b[0mrotated_example\u001b[0m\u001b[1;33m,\u001b[0m \u001b[0mcorrect_class\u001b[0m\u001b[1;33m=\u001b[0m\u001b[0mimg_class\u001b[0m\u001b[1;33m,\u001b[0m \u001b[0mtarget_class\u001b[0m\u001b[1;33m=\u001b[0m\u001b[0mdemo_target\u001b[0m\u001b[1;33m)\u001b[0m\u001b[1;33m\u001b[0m\u001b[1;33m\u001b[0m\u001b[0m\n",
      "\u001b[1;31mNameError\u001b[0m: name 'rotated_image' is not defined"
     ]
    }
   ],
   "source": [
    "rotated_example = rotated_image.eval(feed_dict={image: adv_robust, angle: ex_angle})\n",
    "classify(rotated_example, correct_class=img_class, target_class=demo_target)"
   ]
  },
  {
   "cell_type": "markdown",
   "metadata": {
    "ExecuteTime": {
     "end_time": "2019-10-28T07:04:10.215669Z",
     "start_time": "2019-10-28T07:04:09.684506Z"
    }
   },
   "source": [
    "diff=adv_robust-img\n",
    "# enhance=np.int0(np.exp(80*(diff-np.min(diff))))\n",
    "# plt.imshow(enhance)\n",
    "# plt.imshow(diff)\n",
    "plt.subplot(131),plt.title(\"R\"),plt.imshow(diff[:,:,0],cmap=\"gray\")\n",
    "plt.colorbar(orientation='horizontal')\n",
    "plt.subplot(132),plt.title(\"G\"),plt.imshow(diff[:,:,1],cmap=\"gray\")\n",
    "plt.colorbar(orientation='horizontal')\n",
    "plt.subplot(133),plt.title(\"B\"),plt.imshow(diff[:,:,2],cmap=\"gray\")\n",
    "plt.colorbar(orientation='horizontal')\n",
    "plt.show()"
   ]
  },
  {
   "cell_type": "markdown",
   "metadata": {},
   "source": [
    "## Evaluation\n",
    "\n",
    "Let's examine the rotation-invariance of the robust adversarial example we produced over the entire range of angles, looking at $P(\\hat{y} \\mid \\hat{\\mathbf{x}})$ over $\\theta \\in [-\\pi/4, \\pi/4]$."
   ]
  },
  {
   "cell_type": "markdown",
   "metadata": {
    "ExecuteTime": {
     "end_time": "2019-10-28T07:11:16.867040Z",
     "start_time": "2019-10-28T07:10:59.931880Z"
    }
   },
   "source": [
    "thetas = np.linspace(-np.pi, np.pi, 301)/np.pi*180\n",
    "\n",
    "p_naive = []\n",
    "p_robust = []\n",
    "for theta in thetas:\n",
    "    rotated = rotated_image.eval(feed_dict={image: adv_robust, angle: theta})\n",
    "    p_robust.append(probs.eval(feed_dict={image: rotated})[0][demo_target])\n",
    "    \n",
    "    rotated = rotated_image.eval(feed_dict={image: adv, angle: theta})\n",
    "    p_naive.append(probs.eval(feed_dict={image: rotated})[0][demo_target])\n",
    "\n",
    "robust_line, = plt.plot(thetas, p_robust, color='b', linewidth=2, label='robust')\n",
    "naive_line, = plt.plot(thetas, p_naive, color='r', linewidth=2, label='naive')\n",
    "plt.ylim([0, 1.05])\n",
    "plt.xlabel('rotation angle')\n",
    "plt.ylabel('target class probability')\n",
    "plt.legend(handles=[robust_line, naive_line], loc='lower right')\n",
    "plt.show()"
   ]
  },
  {
   "cell_type": "markdown",
   "metadata": {},
   "source": [
    "It's super effective!"
   ]
  }
 ],
 "metadata": {
  "kernelspec": {
   "display_name": "Python 3",
   "language": "python",
   "name": "python3"
  },
  "language_info": {
   "codemirror_mode": {
    "name": "ipython",
    "version": 3
   },
   "file_extension": ".py",
   "mimetype": "text/x-python",
   "name": "python",
   "nbconvert_exporter": "python",
   "pygments_lexer": "ipython3",
   "version": "3.6.9"
  },
  "toc": {
   "base_numbering": 1,
   "nav_menu": {},
   "number_sections": true,
   "sideBar": true,
   "skip_h1_title": false,
   "title_cell": "Table of Contents",
   "title_sidebar": "Contents",
   "toc_cell": false,
   "toc_position": {
    "height": "calc(100% - 180px)",
    "left": "10px",
    "top": "150px",
    "width": "245.76px"
   },
   "toc_section_display": true,
   "toc_window_display": true
  }
 },
 "nbformat": 4,
 "nbformat_minor": 2
}
